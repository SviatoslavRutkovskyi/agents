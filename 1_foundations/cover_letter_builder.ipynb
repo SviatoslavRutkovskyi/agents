{
 "cells": [
  {
   "cell_type": "markdown",
   "metadata": {},
   "source": [
    "This is a cover letter builder using agentic ai\n"
   ]
  },
  {
   "cell_type": "code",
   "execution_count": 93,
   "metadata": {},
   "outputs": [],
   "source": [
    "#imports\n",
    "\n",
    "from dotenv import load_dotenv\n",
    "from openai import OpenAI\n",
    "from pypdf import PdfReader\n",
    "import gradio as gr\n",
    "from pydantic import BaseModel\n",
    "import os\n",
    "import requests\n",
    "from bs4 import BeautifulSoup\n",
    "from IPython.display import Markdown, display\n",
    "import json"
   ]
  },
  {
   "cell_type": "code",
   "execution_count": 94,
   "metadata": {},
   "outputs": [
    {
     "data": {
      "text/plain": [
       "True"
      ]
     },
     "execution_count": 94,
     "metadata": {},
     "output_type": "execute_result"
    }
   ],
   "source": [
    "load_dotenv(override=True)\n"
   ]
  },
  {
   "cell_type": "code",
   "execution_count": 95,
   "metadata": {},
   "outputs": [],
   "source": [
    "openai = OpenAI()"
   ]
  },
  {
   "cell_type": "code",
   "execution_count": 96,
   "metadata": {},
   "outputs": [],
   "source": [
    "creator_model = \"gpt-4o\"\n",
    "evaluator_model = \"o4-mini\""
   ]
  },
  {
   "cell_type": "code",
   "execution_count": 97,
   "metadata": {},
   "outputs": [],
   "source": [
    "with open(\"me/summary.txt\", \"r\", encoding=\"utf-8\") as f:\n",
    "    summary = f.read()\n",
    "    "
   ]
  },
  {
   "cell_type": "code",
   "execution_count": 98,
   "metadata": {},
   "outputs": [],
   "source": [
    "reader = PdfReader(\"me/resume.pdf\")\n",
    "resume = \"\"\n",
    "for page in reader.pages:\n",
    "    text = page.extract_text()\n",
    "    if text:\n",
    "        resume += text"
   ]
  },
  {
   "cell_type": "code",
   "execution_count": 99,
   "metadata": {},
   "outputs": [],
   "source": [
    "name = \"Sviatoslav Rutkovskyi\"\n"
   ]
  },
  {
   "cell_type": "code",
   "execution_count": 100,
   "metadata": {},
   "outputs": [],
   "source": [
    "system_prompt = f\"\"\"You are a proffesional cover letter writer, and your job is to write a cover letter for {name}, highlighting {name}'s skills, experience, and achievements. \n",
    "particularly questions related to {name}'s career, background, skills and experience. \n",
    "Your responsibility is to represent {name} in the letter as faithfully as possible. \n",
    "You are given a summary of {name}'s background and Resume which you can use in the cover lettter. \n",
    "Be professional and engaging, using the tone and style suitable for a cover letter.\n",
    "Do not make up any information, and only use the information provided.\n",
    "Don't be too verbose, and use a 3 paragraph format.\n",
    "Respond with a cover letter and nothing else.\n",
    "Do not include the address or contact information. \n",
    "You will be given a job description, and you will need to tailor the cover letter to the job description.\n",
    "You will be evaluated, and if evalutor decides that your cover letter is not up to standart, you will be given your previus cover letters and feedback on them. \n",
    "\\n\\n## Summary:\\n{summary}\\n\\n## Resume:\\n{resume}\\n\\n\n",
    "\"\"\"\n",
    "\n"
   ]
  },
  {
   "cell_type": "code",
   "execution_count": 101,
   "metadata": {},
   "outputs": [],
   "source": [
    "\n",
    "updated_system_prompt = system_prompt"
   ]
  },
  {
   "cell_type": "code",
   "execution_count": 102,
   "metadata": {},
   "outputs": [],
   "source": [
    "evaluator_system_prompt = f\"\"\"\n",
    "You are an evaluator that decides whether a cover letter is acceptable. \n",
    "You are provided with {name}'s summary and resume, the job description, and the cover letter. \n",
    "Your task is to evaluate the cover letter, and reply with whether it is acceptable and your feedback. \n",
    "You need to ensure if the cover letter is professional, engaging, and tailored to the job description. \n",
    "You need to ensure if the cover letter was likely made by AI, and if it was made by AI, deny it, and provide feedback. Do not allow AI generated cover letters.\n",
    "You need to ensure that the cover letter has a strong and engaging opening paragraph. \n",
    "You need to ensure that the cover letter does not include any markdown and formatting besides the stardart 3 paragraph format. \n",
    "Here's the information:\n",
    "\\n\\n## Summary:\\n{summary}\\n\\n## Resume:\\n{resume}\\n\\n\n",
    "With this context, please evaluate the cover letter, replying with whether the cover letter is acceptable and your feedback.\n",
    "\"\"\""
   ]
  },
  {
   "cell_type": "code",
   "execution_count": 103,
   "metadata": {},
   "outputs": [],
   "source": [
    "class Evaluation(BaseModel):\n",
    "    is_acceptable: bool\n",
    "    feedback: str"
   ]
  },
  {
   "cell_type": "code",
   "execution_count": 104,
   "metadata": {},
   "outputs": [],
   "source": [
    "def evaluator_cover_letter(job_post, cover_letter):\n",
    "    return f\"\"\"\n",
    "    Here's the job posting presented by the user: \\n\\n{job_post}\\n\\n\n",
    "    Here's the cover letter generated by the agent: \\n\\n{cover_letter}\\n\\n\n",
    "    Please evaluate the response, replying with whether it is acceptable and your extensive feedback.\n",
    "    \"\"\""
   ]
  },
  {
   "cell_type": "code",
   "execution_count": 105,
   "metadata": {},
   "outputs": [],
   "source": [
    "def update_system_prompt(cover_letter, feedback):\n",
    "        global updated_system_prompt\n",
    "        updated_system_prompt = updated_system_prompt + f\"\"\"\n",
    "        \\n\\n## Previous cover letter rejected\\nYou just tried to create a cover letter, but the quality control rejected your cover letter\\n\n",
    "        ## Your attempted cover letter:\\n{cover_letter}\\n\\n\n",
    "        ## Reason for rejection:\\n{feedback}\\n\\n\n",
    "        \"\"\"\n",
    "        return updated_system_prompt;"
   ]
  },
  {
   "cell_type": "code",
   "execution_count": 106,
   "metadata": {},
   "outputs": [],
   "source": [
    "def evaluate(job_post, cover_letter) -> Evaluation:\n",
    "    messages = [\n",
    "        {\"role\": \"system\", \"content\": evaluator_system_prompt},\n",
    "        {\"role\": \"user\", \"content\": evaluator_cover_letter(job_post, cover_letter)},\n",
    "        {\"role\": \"user\", \"content\": \"Reply ONLY in valid JSON: {\\\"is_acceptable\\\": true/false, \\\"feedback\\\": \\\"...\\\"}\"}\n",
    "    ]\n",
    "    response = openai.chat.completions.create(model=evaluator_model, messages=messages)\n",
    "    content = response.choices[0].message.content\n",
    "    data = json.loads(content)\n",
    "    return Evaluation(**data)"
   ]
  },
  {
   "cell_type": "code",
   "execution_count": 107,
   "metadata": {},
   "outputs": [],
   "source": [
    "def run(prompt, job_posting):\n",
    "    messages = [{\"role\": \"system\", \"content\": prompt}] + [{\"role\": \"user\", \"content\": job_posting}]\n",
    "    response = openai.chat.completions.create(model=creator_model, messages=messages)\n",
    "    return response.choices[0].message.content"
   ]
  },
  {
   "cell_type": "code",
   "execution_count": 108,
   "metadata": {},
   "outputs": [],
   "source": [
    "\n",
    "def scrape_webpage_simple(url):\n",
    "    try:\n",
    "        # Set headers to mimic a real browser\n",
    "        headers = {\n",
    "            'User-Agent': 'Mozilla/5.0'\n",
    "        }\n",
    "        \n",
    "        # Make the request\n",
    "        response = requests.get(url, headers=headers, timeout=10)\n",
    "        response.raise_for_status()  # Raise an error for bad status codes\n",
    "        \n",
    "        # Parse the HTML\n",
    "        soup = BeautifulSoup(response.content, 'html.parser')\n",
    "\n",
    "        # Get all text content\n",
    "        return soup.get_text()\n",
    "        \n",
    "        \n",
    "    except requests.RequestException:\n",
    "        return 'error'\n",
    "    except Exception:\n",
    "        return 'error'\n"
   ]
  },
  {
   "cell_type": "code",
   "execution_count": 109,
   "metadata": {},
   "outputs": [],
   "source": [
    "def requestLetter(job_posting, history):\n",
    "    global updated_system_prompt\n",
    "    page = scrape_webpage_simple(job_posting)\n",
    "    print(page)\n",
    "    if page == 'error':\n",
    "        print(\"Failed to scrape job posting\")\n",
    "    else:\n",
    "        job_posting = page\n",
    "\n",
    "    cover_letter = run(system_prompt, job_posting)\n",
    "\n",
    "    eval_counter = 0\n",
    "    while eval_counter < 10:\n",
    "        evaluation = evaluate(job_posting, cover_letter)\n",
    "        if evaluation.is_acceptable:\n",
    "            print(\"Passed evaluation - returning reply\")\n",
    "            display(Markdown(f\"## Cover Letter:\\n{cover_letter}\"));\n",
    "            display(Markdown(f\"## Feedback:\\n{evaluation.feedback}\"))\n",
    "            display(Markdown(f\"## Updated system prompt:\\n{updated_system_prompt}\"))\n",
    "            updated_system_prompt = system_prompt;\n",
    "            return cover_letter\n",
    "        else:\n",
    "            eval_counter += 1\n",
    "            print(\"Failed evaluation - retrying\")\n",
    "            display(Markdown(f\"## Cover Letter:\\n{cover_letter}\"))\n",
    "            display(Markdown(f\"## Feedback:\\n{evaluation.feedback}\"))\n",
    "            cover_letter = run(update_system_prompt(cover_letter, evaluation.feedback), job_posting)\n",
    "    print(\"Failed evaluation - returning reply\")\n",
    "    return \"Unable to generate cover letter\" +\"\\n\" + evaluation.feedback    \n",
    "    "
   ]
  },
  {
   "cell_type": "code",
   "execution_count": 110,
   "metadata": {},
   "outputs": [
    {
     "name": "stdout",
     "output_type": "stream",
     "text": [
      "* Running on local URL:  http://127.0.0.1:7865\n",
      "* To create a public link, set `share=True` in `launch()`.\n"
     ]
    },
    {
     "data": {
      "text/html": [
       "<div><iframe src=\"http://127.0.0.1:7865/\" width=\"100%\" height=\"500\" allow=\"autoplay; camera; microphone; clipboard-read; clipboard-write;\" frameborder=\"0\" allowfullscreen></iframe></div>"
      ],
      "text/plain": [
       "<IPython.core.display.HTML object>"
      ]
     },
     "metadata": {},
     "output_type": "display_data"
    },
    {
     "data": {
      "text/plain": []
     },
     "execution_count": 110,
     "metadata": {},
     "output_type": "execute_result"
    },
    {
     "name": "stdout",
     "output_type": "stream",
     "text": [
      "error\n",
      "Failed to scrape job posting\n",
      "Failed evaluation - retrying\n"
     ]
    },
    {
     "data": {
      "text/markdown": [
       "## Cover Letter:\n",
       "I am writing to express my enthusiasm for the Software Developer 1 position at Oracle America, Inc., as advertised. With a Bachelor of Science in Computer Science from the University of Washington Tacoma, and a 3.9 cumulative GPA, I am eager to apply my strong technical skills and passion for creating innovative software solutions to this role. My experience in designing and developing applications, combined with my collaborative nature and leadership experience, make me a strong candidate for this position.\n",
       "\n",
       "During my academic career, I have honed my skills in Java, Python, and RESTful API development through several projects, including building a machine learning model to predict user demographics and creating an asymmetric encryption application. As a team leader, I have effectively managed projects to completion, ensuring software quality and integrity. Furthermore, my background in scripting languages like Python and exposure to scalable microservice architecture and distributed systems will enable me to contribute effectively to Oracle's software engineering division. My coursework and projects have equipped me with a solid foundation in software architecture and debugging, aligning well with the responsibilities outlined in the job description.\n",
       "\n",
       "Additionally, my experience in the US Army Reserves as a sergeant has instilled in me strong discipline, leadership, and teamwork skills. These skills, coupled with my technical expertise developed through both academic projects and my role as a team leader on a variety of software endeavors, position me to excel in building enhancements within existing software architectures at Oracle. I am excited by the opportunity to work with such a renowned organization and contribute to meaningful projects that align with Oracle’s commitment to integrity and innovation. Thank you for considering my application. I look forward to the possibility of discussing how I can contribute to the success of Oracle.\n",
       "\n",
       "Sincerely,\n",
       "\n",
       "Sviatoslav Rutkovskyi"
      ],
      "text/plain": [
       "<IPython.core.display.Markdown object>"
      ]
     },
     "metadata": {},
     "output_type": "display_data"
    },
    {
     "data": {
      "text/markdown": [
       "## Feedback:\n",
       "The cover letter is well-structured and professional in tone, but it reads like a generic template rather than a targeted Oracle application. The opening paragraph is polite but lacks a compelling hook about why Oracle specifically or what excites you about their cloud and microservices environment. The middle paragraph highlights your academic work in Java, Python, and API development, yet it omits key technologies called out in the posting (C, C++, Rust, Linux, Bash scripting, distributed systems) and doesn’t demonstrate direct experience with scalable microservice architectures in a production context. The closing reiterates your Army leadership background effectively, but misses an opportunity to tie your discipline and teamwork to Oracle’s values of integrity and innovation. To improve: reference Oracle’s products or culture, call out experiences in C/C++/Rust and Linux environments, give a concrete example of collaborating on a microservices project, and craft a stronger, more engaging opening that demonstrates your research into Oracle’s mission. "
      ],
      "text/plain": [
       "<IPython.core.display.Markdown object>"
      ]
     },
     "metadata": {},
     "output_type": "display_data"
    },
    {
     "name": "stdout",
     "output_type": "stream",
     "text": [
      "Passed evaluation - returning reply\n"
     ]
    },
    {
     "data": {
      "text/markdown": [
       "## Cover Letter:\n",
       "I am writing to express my enthusiasm for the Software Developer 1 position at Oracle America, Inc. With a Bachelor of Science in Computer Science from the University of Washington Tacoma and a strong cumulative GPA of 3.9, I bring a passion for innovative software development and a solid foundation in various programming languages and technologies. The opportunity to contribute to Oracle's renowned products and services excites me, particularly given my interest in scalable microservice architectures and integrated systems, as called for in this role.\n",
       "\n",
       "Throughout my academic career, I have engaged deeply with Java, Python, and RESTful API-based services, and built foundational skills in C and Linux-based systems through multiple projects. Notably, I led a team in developing a Bookkeeping Web App using a full-stack approach with React.js and a containerized API backend, showcasing my ability to work within and enhance existing software architectures through effective teamwork and problem-solving. Additionally, my experience creating a machine learning model with Python and deploying advanced encryption algorithms in Java illustrates my proficiency in addressing complex technical challenges akin to debugging and designing software per Oracle’s specifications.\n",
       "\n",
       "Moreover, my tenure in the US Army Reserves as a sergeant has equipped me with robust leadership skills, discipline, and the ability to collaborate effectively under pressure—qualities that align with Oracle's values of integrity and innovation. My role emphasized mentoring and teamwork, which are critical to fostering an inclusive workplace, resonating strongly with Oracle’s commitment to empowering an inclusive workforce. I am excited about the possibility of contributing my expertise and energy towards Oracle's mission, and I look forward to the opportunity to discuss how I can be an asset to your team. Thank you for considering my application. \n",
       "\n",
       "Sincerely,\n",
       "\n",
       "Sviatoslav Rutkovskyi"
      ],
      "text/plain": [
       "<IPython.core.display.Markdown object>"
      ]
     },
     "metadata": {},
     "output_type": "display_data"
    },
    {
     "data": {
      "text/markdown": [
       "## Feedback:\n",
       "Overall, this cover letter is professional, concise, and tailored to the Software Developer 1 role at Oracle. It follows the three-paragraph structure, avoids extraneous formatting, and directly addresses several key requirements from the job posting—namely Java, Python, RESTful APIs, microservice architecture, and your leadership experience. You successfully weave in concrete examples from your Bookkeeping Web App and encryption project to demonstrate relevant technical skills while also highlighting soft skills gained from the US Army Reserves.\n",
       "\n",
       "To strengthen this letter even further, consider crafting a more compelling opening that ties your passion to Oracle’s mission or its specific cloud solutions. You might also briefly mention your familiarity with Rust or Bash scripting and Linux environments, since those are listed qualifications. Finally, a short sentence about why Oracle’s culture or recent achievements excite you would make your motivation feel even more authentic."
      ],
      "text/plain": [
       "<IPython.core.display.Markdown object>"
      ]
     },
     "metadata": {},
     "output_type": "display_data"
    },
    {
     "data": {
      "text/markdown": [
       "## Updated system prompt:\n",
       "You are a proffesional cover letter writer, and your job is to write a cover letter for Sviatoslav Rutkovskyi, highlighting Sviatoslav Rutkovskyi's skills, experience, and achievements. \n",
       "particularly questions related to Sviatoslav Rutkovskyi's career, background, skills and experience. \n",
       "Your responsibility is to represent Sviatoslav Rutkovskyi in the letter as faithfully as possible. \n",
       "You are given a summary of Sviatoslav Rutkovskyi's background and Resume which you can use in the cover lettter. \n",
       "Be professional and engaging, using the tone and style suitable for a cover letter.\n",
       "Do not make up any information, and only use the information provided.\n",
       "Don't be too verbose, and use a 3 paragraph format.\n",
       "Respond with a cover letter and nothing else.\n",
       "Do not include the address or contact information. \n",
       "You will be given a job description, and you will need to tailor the cover letter to the job description.\n",
       "You will be evaluated, and if evalutor decides that your cover letter is not up to standart, you will be given your previus cover letters and feedback on them. \n",
       "\n",
       "\n",
       "## Summary:\n",
       "My name is Sviatoslav Rutkovskyi, and I am a recent graduate from university of Washington Tacoma, with a Bachelor of Science in Computer Science, and 3.9 cumulative GPA. I also have a minor in Mathematics. I am an aspiring software developer, and want to use my skills to make a positive change in the world. \n",
       "My hobbies include playing guitar, hiking, and skiing. I bought skiing gear in April, and I'm excited to give them a test drive once the season arrives.\n",
       "\n",
       "My interest in coding started in highschool, when I would write simple python code in my free time. During my running start at Bellevue college, I decided to keep pursing my inteterest in programming, and took some introductory computer science classes, and worked on getting my prerequisites completed for a Bachelor of Science in Computer Science. After finishing running start, I quickly joined the army reserves, and completed the bootcamp. \n",
       "After returning from the army bootcamp, I started preparing for the next step in my education, while taking online courses on web development and PHP on the side. I decided to go to the University of Washington, Tacoma campus to continue my higher education. At the same time, I was still working part time at home depot, while maintaining high grades. During my Senior year, I quit my job at Home Depot to focus more on my education, even though my supervisors wanted me to stay. I was an employee who always did the work that was required of me, and went above and beyond to do so. \n",
       "I took many courses while in university, incuding: Data Structures, Web Development, Cryptography, Programming Practicum, Discrete Structures, Software Development and Quality Assurance Techniques, Computer Operating Systems, Artificial Intelligence and Knowledge Acquisition, Database Systems Design, \n",
       "Machine Learning, and Algorithms. I have gained many skills from these classes, and completed many projects, which are summarized below. \n",
       "\n",
       "Projects: \n",
       "\n",
       "Asymmetric Encryption App\n",
       "Completion Date: December 2024\n",
       "Course: Cryptography\n",
       "• Implemented advanced cryptographic algorithms including SHA3 (sponge and SHAKE functions) and an\n",
       "elliptic-curve encryption scheme (ECIES) in a Java application.\n",
       "• Utilizes SHA3 functions to compute hashes, authentication tags, and encrypt a user-specified file, as well as\n",
       "decrypt the cryptogram and verify the MAC\n",
       "• Utilizes ECIES functions to create public keys, encrypt a file under the public key sign it with Schnorr, as well\n",
       "as to decrypt the file with a private key, and verify it.\n",
       "• Tech Stack: Java, IntelliJ, and Github.\n",
       "\n",
       "\n",
       "Bookkeeping Web App \n",
       "Completion Date: July 2024\n",
       "Course: Web Development\n",
       "• Full-stack web application for managing a book catalog (view/add/remove books and update ratings) with\n",
       "secure user registration, login, and role-based access control.\n",
       "• Collaborated in a team of 5 to design and document a RESTful API backend (Node.js, Express, PostgreSQL),\n",
       "using Docker for containerization and tools like ApiDoc/Postman for API documentation and testing.\n",
       "• Adapted to a new codebase by swapping projects with another team and developing a React/Next.js front-end\n",
       "that consumed their API, demonstrating flexibility and teamwork to deliver the project successfully.\n",
       "• My Role: Team Leader, created and managed backend repository, resolved merges and pull requests,\n",
       "implemented POST for backend and frontend, communicated with other teams, fixed various bugs.\n",
       "• Tech Stack: Typescript, React.js, Next.js, Docker, ApiDoc, Postgres, Postman, WebStorm.\n",
       "\n",
       "\n",
       "Social Media Data Neural Network\n",
       "Completion Date: July 2024\n",
       "Course: Machine Learning\n",
       "• Built and evaluated machine learning models (Naive Bayes, linear regression, and deep neural networks) to predict user demographics (age group and gender) from social media data.\n",
       "• Achieved prediction accuracies of 64% (age group) and 82% (gender) using a neural network, improving significantly over the baseline accuracy (˜59%) and showcasing strong analytical and problem-solving skills.\n",
       "• My Role: Project Leader, created baseline results, worked on the likes dataset, assisted other team members.\n",
       "• Tech Stack: Python, scikit-learn, Keras, TensorFlow, Ubuntu VM, PyCharm.\n",
       "\n",
       "\n",
       "Dungeon Crawler\n",
       "Completion Date: December 2023\n",
       "Course: Software Development and Quality Assurance Techniques\n",
       "• Developed a Java Swing dungeon crawler game featuring randomly generated dungeons with monsters and collectible items, plus multiple playable heroes.\n",
       "• Implemented game mechanics including a minimap, inventory system, turn-based combat, and save/load functionality, following an MVC architecture and other design patterns (Singleton, Factory) for clean, maintainable code.\n",
       "• Created thorough JUnit testing for the entire back-end model.\n",
       "• Created a UML diagram for the project, used Pivotal Tracker and Toggl to organize and delegate tasks, and to track the time spent on each task.\n",
       "• My Role: Team Leader, created and maintained the repository, created most of the model, including recursive dungeon generation and the inventory system, and worked on the View-Controller.\n",
       "• Tech Stack: Java, Swing, IntelliJ, GitHub, Pivotal Tracker, Toggl\n",
       "\n",
       "\n",
       "\n",
       " \n",
       "\n",
       "## Resume:\n",
       "Sviatoslav Rutkovskyi\n",
       "Kent, Washington\n",
       "/ne571-992-8193 rutkovsky2003@gmail.com LinkedIn: sviatoslav-rutkovskyi\n",
       "PROFILE\n",
       "Highly motivated software engineer looking to work my dream job, equipped with quick learning ability proven by\n",
       "academic success. Able to work under pressure, provide outstanding leadership, and maintain personal and\n",
       "professional integrity, given my experience as a sergeant in the US Army Reserves. Passionate about new\n",
       "technology within software engineering such as AI and ML. I enjoy hiking and playing guitar as hobbies.\n",
       "TECHNICAL SKILLS\n",
       "Programming Languages:Python, Java, C, C#, JavaScript, SQL, R, HTML/CSS\n",
       "Developer Tools:VS Code, MySQL Workbench, R Studio, IntelliJ, PyCharm, WebStorm\n",
       "Technologies/Frameworks:GitHub, ReactJS, NodeJS, ExpressJS, Git, Docker, Postman\n",
       "Soft Skills:Quick Learning Ability, Communication, Logical Thinking, Task Management, Problem-Solving\n",
       "Spoken Languages:Native Speaker of Ukrainian, Fluent in English and Russian\n",
       "Relevant Coursework:ML, AI, Data Structures & Algorithms, Databases, Client/Server, Cryptography\n",
       "PROJECTS\n",
       "Asymmetric Encryption App| Github 12 2024\n",
       "• Implemented advanced cryptographic algorithms including SHA3 (sponge and SHAKE functions) and an\n",
       "elliptic-curve encryption scheme (ECIES) in a Java application.\n",
       "• Utilizes SHA3 functions to compute hashes, authentication tags, and encrypt a user-specified file, as well as\n",
       "decrypt the cryptogram and verify the MAC\n",
       "• Utilizes ECIES functions to create public keys, encrypt a file under the public key sign it with Schnorr, as well\n",
       "as to decrypt the file with a private key, and verify it.\n",
       "• Tech Stack: Java, IntelliJ, and Github.\n",
       "Bookkeeping Web App| Github Backend Github Frontend 06 2024\n",
       "• Full-stack web application for managing a book catalog (view/add/remove books and update ratings) with\n",
       "secure user registration, login, and role-based access control.\n",
       "• Collaborated in a team of 5 to design and document a RESTful API backend (Node.js, Express, PostgreSQL),\n",
       "using Docker for containerization and tools like ApiDoc/Postman for API documentation and testing.\n",
       "• Adapted to a new codebase by swapping projects with another team and developing a React/Next.js front-end\n",
       "that consumed their API, demonstrating flexibility and teamwork to deliver the project successfully.\n",
       "• My Role: Team Leader, created and managed backend repository, resolved merges and pull requests,\n",
       "implemented POST for backend and frontend, communicated with other teams, fixed various bugs.\n",
       "• Tech Stack: Typescript, React.js, Next.js, Docker, ApiDoc, Postgres, Postman, WebStorm.\n",
       "Social Media Data Neural Network 06 2024\n",
       "• Built and evaluated machine learning models (Naive Bayes, linear regression, and deep neural networks) to\n",
       "predict user demographics (age group and gender) from social media data.\n",
       "• Achieved prediction accuracies of 64% (age group) and 82% (gender) using a neural network, improving\n",
       "significantly over the baseline accuracy ( ˜59%) and showcasing strong analytical and problem-solving skills.\n",
       "• My Role: Project Leader, created baseline results, worked on the likes dataset, assisted other team members.\n",
       "• Tech Stack: Python, scikit-learn, Keras, TensorFlow, Ubuntu VM, PyCharm.\n",
       "Dungeon Crawler 12 2023\n",
       "• Developed a Java Swing dungeon crawler game featuring randomly generated dungeons with monsters and\n",
       "collectible items, plus multiple playable heroes.\n",
       "• Implemented game mechanics including a minimap, inventory system, turn-based combat, and save/load\n",
       "functionality, following an MVC architecture and other design patterns (Singleton, Factory) for clean,\n",
       "maintainable code.\n",
       "• Created thorough JUnit testing for the entire back-end model.\n",
       "• Created a UML diagram for the project, used Pivotal Tracker and Toggl to organize and delegate tasks, and to\n",
       "track the time spent on each task.\n",
       "• My Role: Team Leader, created and maintained the repository, created most of the model, including recursive\n",
       "dungeon generation and the inventory system, and worked on the View-Controller.\n",
       "• Tech Stack: Java, Swing, IntelliJ, GitHub, Pivotal Tracker, TogglEXPERIENCE\n",
       "US Army Reserve 07 2021 – Present\n",
       "Sergeant, Bridge Crew Member, 12C Marysville, Washington\n",
       "• Demonstrated integrity, dedication, and mental fortitude through military training and duties, allowing me to\n",
       "perform under pressure.\n",
       "• Taught classes up to and exceeding army standards and provided mentorship to lower enlisted soldiers, setting\n",
       "them up for success.\n",
       "• Led and collaborated with team members in high-pressure environments, honing strong leadership and\n",
       "teamwork skills that translate to managing projects and coordinating with colleagues in tech settings.\n",
       "Home Depot 07 2022 – 01 2024\n",
       "Sales Associate Kent, Washington\n",
       "• Quickly learned new skills and honed my communication skills, rapidly increasing my knowledge in new areas\n",
       "• Provided excellent customer service to a diverse customer base, in a timely and efficient manner.\n",
       "• Maintained a positive team environment while consistently meeting sales and service targets.\n",
       "EDUCATION\n",
       "University of Washington 09 2022 – 03 2025\n",
       "Bachelor of Science in Computer Science -CGPA - 3.9 Tacoma, Washington\n",
       "Bellevue College 09 2019 – 06 2021\n",
       "Running Start Bellevue, Washington\n",
       "EXTRACURRICULAR\n",
       "• Participated in UWT SEP 2023 Programming Contest\n",
       "• Participated in UWT MAY 2024 Programming Contest\n",
       "\n",
       "\n",
       "\n",
       "        \n",
       "\n",
       "## Previous cover letter rejected\n",
       "You just tried to create a cover letter, but the quality control rejected your cover letter\n",
       "\n",
       "        ## Your attempted cover letter:\n",
       "I am writing to express my enthusiasm for the Software Developer 1 position at Oracle America, Inc., as advertised. With a Bachelor of Science in Computer Science from the University of Washington Tacoma, and a 3.9 cumulative GPA, I am eager to apply my strong technical skills and passion for creating innovative software solutions to this role. My experience in designing and developing applications, combined with my collaborative nature and leadership experience, make me a strong candidate for this position.\n",
       "\n",
       "During my academic career, I have honed my skills in Java, Python, and RESTful API development through several projects, including building a machine learning model to predict user demographics and creating an asymmetric encryption application. As a team leader, I have effectively managed projects to completion, ensuring software quality and integrity. Furthermore, my background in scripting languages like Python and exposure to scalable microservice architecture and distributed systems will enable me to contribute effectively to Oracle's software engineering division. My coursework and projects have equipped me with a solid foundation in software architecture and debugging, aligning well with the responsibilities outlined in the job description.\n",
       "\n",
       "Additionally, my experience in the US Army Reserves as a sergeant has instilled in me strong discipline, leadership, and teamwork skills. These skills, coupled with my technical expertise developed through both academic projects and my role as a team leader on a variety of software endeavors, position me to excel in building enhancements within existing software architectures at Oracle. I am excited by the opportunity to work with such a renowned organization and contribute to meaningful projects that align with Oracle’s commitment to integrity and innovation. Thank you for considering my application. I look forward to the possibility of discussing how I can contribute to the success of Oracle.\n",
       "\n",
       "Sincerely,\n",
       "\n",
       "Sviatoslav Rutkovskyi\n",
       "\n",
       "\n",
       "        ## Reason for rejection:\n",
       "The cover letter is well-structured and professional in tone, but it reads like a generic template rather than a targeted Oracle application. The opening paragraph is polite but lacks a compelling hook about why Oracle specifically or what excites you about their cloud and microservices environment. The middle paragraph highlights your academic work in Java, Python, and API development, yet it omits key technologies called out in the posting (C, C++, Rust, Linux, Bash scripting, distributed systems) and doesn’t demonstrate direct experience with scalable microservice architectures in a production context. The closing reiterates your Army leadership background effectively, but misses an opportunity to tie your discipline and teamwork to Oracle’s values of integrity and innovation. To improve: reference Oracle’s products or culture, call out experiences in C/C++/Rust and Linux environments, give a concrete example of collaborating on a microservices project, and craft a stronger, more engaging opening that demonstrates your research into Oracle’s mission. \n",
       "\n",
       "\n",
       "        "
      ],
      "text/plain": [
       "<IPython.core.display.Markdown object>"
      ]
     },
     "metadata": {},
     "output_type": "display_data"
    }
   ],
   "source": [
    "gr.ChatInterface(requestLetter, type=\"messages\").launch()"
   ]
  },
  {
   "cell_type": "code",
   "execution_count": null,
   "metadata": {},
   "outputs": [],
   "source": []
  }
 ],
 "metadata": {
  "kernelspec": {
   "display_name": ".venv",
   "language": "python",
   "name": "python3"
  },
  "language_info": {
   "codemirror_mode": {
    "name": "ipython",
    "version": 3
   },
   "file_extension": ".py",
   "mimetype": "text/x-python",
   "name": "python",
   "nbconvert_exporter": "python",
   "pygments_lexer": "ipython3",
   "version": "3.12.1"
  }
 },
 "nbformat": 4,
 "nbformat_minor": 2
}
