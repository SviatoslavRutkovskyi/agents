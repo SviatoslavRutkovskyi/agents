{
 "cells": [
  {
   "cell_type": "markdown",
   "metadata": {},
   "source": [
    "This is a cover letter builder using agentic ai\n"
   ]
  },
  {
   "cell_type": "code",
   "execution_count": 111,
   "metadata": {},
   "outputs": [],
   "source": [
    "#imports\n",
    "\n",
    "from dotenv import load_dotenv\n",
    "from openai import OpenAI\n",
    "from pypdf import PdfReader\n",
    "import gradio as gr\n",
    "from pydantic import BaseModel\n",
    "import os\n",
    "import requests\n",
    "from bs4 import BeautifulSoup\n",
    "from IPython.display import Markdown, display\n",
    "import json"
   ]
  },
  {
   "cell_type": "code",
   "execution_count": 112,
   "metadata": {},
   "outputs": [
    {
     "data": {
      "text/plain": [
       "True"
      ]
     },
     "execution_count": 112,
     "metadata": {},
     "output_type": "execute_result"
    }
   ],
   "source": [
    "load_dotenv(override=True)\n"
   ]
  },
  {
   "cell_type": "code",
   "execution_count": 113,
   "metadata": {},
   "outputs": [],
   "source": [
    "openai = OpenAI()"
   ]
  },
  {
   "cell_type": "code",
   "execution_count": 114,
   "metadata": {},
   "outputs": [],
   "source": [
    "creator_model = \"gpt-4o\"\n",
    "evaluator_model = \"o4-mini\""
   ]
  },
  {
   "cell_type": "code",
   "execution_count": 115,
   "metadata": {},
   "outputs": [],
   "source": [
    "with open(\"me/summary.txt\", \"r\", encoding=\"utf-8\") as f:\n",
    "    summary = f.read()\n",
    "    "
   ]
  },
  {
   "cell_type": "code",
   "execution_count": 116,
   "metadata": {},
   "outputs": [],
   "source": [
    "reader = PdfReader(\"me/resume.pdf\")\n",
    "resume = \"\"\n",
    "for page in reader.pages:\n",
    "    text = page.extract_text()\n",
    "    if text:\n",
    "        resume += text"
   ]
  },
  {
   "cell_type": "code",
   "execution_count": 117,
   "metadata": {},
   "outputs": [],
   "source": [
    "name = \"Sviatoslav Rutkovskyi\"\n"
   ]
  },
  {
   "cell_type": "code",
   "execution_count": 118,
   "metadata": {},
   "outputs": [],
   "source": [
    "system_prompt = f\"\"\"You are a proffesional cover letter writer, and your job is to write a cover letter for {name}, highlighting {name}'s skills, experience, and achievements. \n",
    "particularly questions related to {name}'s career, background, skills and experience. \n",
    "Your responsibility is to represent {name} in the letter as faithfully as possible. \n",
    "You are given a summary of {name}'s background and Resume which you can use in the cover lettter. \n",
    "Be professional and engaging, using the tone and style suitable for a cover letter.\n",
    "Do not make up any information, and only use the information provided.\n",
    "Don't be too verbose, and use a 3 paragraph format.\n",
    "Respond with a cover letter and nothing else.\n",
    "Do not include the address or contact information. \n",
    "You will be given a job description, and you will need to tailor the cover letter to the job description.\n",
    "You will be evaluated, and if evalutor decides that your cover letter is not up to standart, you will be given your previus cover letters and feedback on them. \n",
    "\\n\\n## Summary:\\n{summary}\\n\\n## Resume:\\n{resume}\\n\\n\n",
    "\"\"\"\n",
    "\n"
   ]
  },
  {
   "cell_type": "code",
   "execution_count": 119,
   "metadata": {},
   "outputs": [],
   "source": [
    "\n",
    "updated_system_prompt = system_prompt"
   ]
  },
  {
   "cell_type": "code",
   "execution_count": 120,
   "metadata": {},
   "outputs": [],
   "source": [
    "evaluator_system_prompt = f\"\"\"\n",
    "You are an evaluator that decides whether a cover letter is acceptable. \n",
    "You are provided with {name}'s summary and resume, the job description, and the cover letter. \n",
    "Your task is to evaluate the cover letter, and reply with whether it is acceptable and your feedback. \n",
    "You need to ensure if the cover letter is professional, engaging, and tailored to the job description. \n",
    "You need to ensure if the cover letter was likely made by AI, and if it was made by AI, deny it, and provide feedback. Do not allow AI generated cover letters.\n",
    "You need to ensure that the cover letter has a strong and engaging opening paragraph. \n",
    "You need to ensure that the cover letter does not include any markdown and formatting besides the stardart 3 paragraph format. \n",
    "Here's the information:\n",
    "\\n\\n## Summary:\\n{summary}\\n\\n## Resume:\\n{resume}\\n\\n\n",
    "With this context, please evaluate the cover letter, replying with whether the cover letter is acceptable and your feedback.\n",
    "\"\"\""
   ]
  },
  {
   "cell_type": "code",
   "execution_count": 121,
   "metadata": {},
   "outputs": [],
   "source": [
    "class Evaluation(BaseModel):\n",
    "    is_acceptable: bool\n",
    "    feedback: str"
   ]
  },
  {
   "cell_type": "code",
   "execution_count": 122,
   "metadata": {},
   "outputs": [],
   "source": [
    "def evaluator_cover_letter(job_post, cover_letter):\n",
    "    return f\"\"\"\n",
    "    Here's the job posting presented by the user: \\n\\n{job_post}\\n\\n\n",
    "    Here's the cover letter generated by the agent: \\n\\n{cover_letter}\\n\\n\n",
    "    Please evaluate the response, replying with whether it is acceptable and your extensive feedback.\n",
    "    \"\"\""
   ]
  },
  {
   "cell_type": "code",
   "execution_count": 123,
   "metadata": {},
   "outputs": [],
   "source": [
    "def update_system_prompt(cover_letter, feedback):\n",
    "        global updated_system_prompt\n",
    "        updated_system_prompt = updated_system_prompt + f\"\"\"\n",
    "        \\n\\n## Previous cover letter rejected\\nYou just tried to create a cover letter, but the quality control rejected your cover letter\\n\n",
    "        ## Your attempted cover letter:\\n{cover_letter}\\n\\n\n",
    "        ## Reason for rejection:\\n{feedback}\\n\\n\n",
    "        \"\"\"\n",
    "        return updated_system_prompt;"
   ]
  },
  {
   "cell_type": "code",
   "execution_count": 124,
   "metadata": {},
   "outputs": [],
   "source": [
    "def evaluate(job_post, cover_letter) -> Evaluation:\n",
    "    messages = [\n",
    "        {\"role\": \"system\", \"content\": evaluator_system_prompt},\n",
    "        {\"role\": \"user\", \"content\": evaluator_cover_letter(job_post, cover_letter)},\n",
    "        {\"role\": \"user\", \"content\": \"Reply ONLY in valid JSON: {\\\"is_acceptable\\\": true/false, \\\"feedback\\\": \\\"...\\\"}\"}\n",
    "    ]\n",
    "    response = openai.chat.completions.create(model=evaluator_model, messages=messages)\n",
    "    content = response.choices[0].message.content\n",
    "    data = json.loads(content)\n",
    "    return Evaluation(**data)"
   ]
  },
  {
   "cell_type": "code",
   "execution_count": 125,
   "metadata": {},
   "outputs": [],
   "source": [
    "def run(prompt, job_posting):\n",
    "    messages = [{\"role\": \"system\", \"content\": prompt}] + [{\"role\": \"user\", \"content\": job_posting}]\n",
    "    response = openai.chat.completions.create(model=creator_model, messages=messages)\n",
    "    return response.choices[0].message.content"
   ]
  },
  {
   "cell_type": "code",
   "execution_count": 126,
   "metadata": {},
   "outputs": [],
   "source": [
    "\n",
    "def scrape_webpage_simple(url):\n",
    "    try:\n",
    "        # Set headers to mimic a real browser\n",
    "        headers = {\n",
    "            'User-Agent': 'Mozilla/5.0'\n",
    "        }\n",
    "        \n",
    "        # Make the request\n",
    "        response = requests.get(url, headers=headers, timeout=10)\n",
    "        response.raise_for_status()  # Raise an error for bad status codes\n",
    "        \n",
    "        # Parse the HTML\n",
    "        soup = BeautifulSoup(response.content, 'html.parser')\n",
    "\n",
    "        # Get all text content\n",
    "        return soup.get_text()\n",
    "        \n",
    "        \n",
    "    except requests.RequestException:\n",
    "        return 'error'\n",
    "    except Exception:\n",
    "        return 'error'\n"
   ]
  },
  {
   "cell_type": "code",
   "execution_count": 127,
   "metadata": {},
   "outputs": [],
   "source": [
    "def requestLetter(job_posting, history):\n",
    "    global updated_system_prompt\n",
    "    page = scrape_webpage_simple(job_posting)\n",
    "    print(page)\n",
    "    if page == 'error':\n",
    "        print(\"Failed to scrape job posting\")\n",
    "    else:\n",
    "        job_posting = page\n",
    "\n",
    "    cover_letter = run(system_prompt, job_posting)\n",
    "\n",
    "    eval_counter = 0\n",
    "    while eval_counter < 10:\n",
    "        evaluation = evaluate(job_posting, cover_letter)\n",
    "        if evaluation.is_acceptable:\n",
    "            print(\"Passed evaluation - returning reply\")\n",
    "            display(Markdown(f\"## Cover Letter:\\n{cover_letter}\"));\n",
    "            display(Markdown(f\"## Feedback:\\n{evaluation.feedback}\"))\n",
    "            display(Markdown(f\"## Updated system prompt:\\n{updated_system_prompt}\"))\n",
    "            updated_system_prompt = system_prompt;\n",
    "            return cover_letter\n",
    "        else:\n",
    "            eval_counter += 1\n",
    "            print(\"Failed evaluation - retrying\")\n",
    "            display(Markdown(f\"## Cover Letter:\\n{cover_letter}\"))\n",
    "            display(Markdown(f\"## Feedback:\\n{evaluation.feedback}\"))\n",
    "            cover_letter = run(update_system_prompt(cover_letter, evaluation.feedback), job_posting)\n",
    "    print(\"Failed evaluation - returning reply\")\n",
    "    return \"Unable to generate cover letter\" +\"\\n\" + evaluation.feedback    \n",
    "    "
   ]
  },
  {
   "cell_type": "code",
   "execution_count": 130,
   "metadata": {},
   "outputs": [
    {
     "name": "stdout",
     "output_type": "stream",
     "text": [
      "* Running on local URL:  http://127.0.0.1:7868\n",
      "* To create a public link, set `share=True` in `launch()`.\n"
     ]
    },
    {
     "data": {
      "text/html": [
       "<div><iframe src=\"http://127.0.0.1:7868/\" width=\"100%\" height=\"500\" allow=\"autoplay; camera; microphone; clipboard-read; clipboard-write;\" frameborder=\"0\" allowfullscreen></iframe></div>"
      ],
      "text/plain": [
       "<IPython.core.display.HTML object>"
      ]
     },
     "metadata": {},
     "output_type": "display_data"
    },
    {
     "data": {
      "text/plain": []
     },
     "execution_count": 130,
     "metadata": {},
     "output_type": "execute_result"
    },
    {
     "name": "stdout",
     "output_type": "stream",
     "text": [
      "error\n",
      "Failed to scrape job posting\n"
     ]
    },
    {
     "name": "stderr",
     "output_type": "stream",
     "text": [
      "Traceback (most recent call last):\n",
      "  File \"c:\\Users\\rutko\\projects\\agents\\.venv\\Lib\\site-packages\\gradio\\queueing.py\", line 625, in process_events\n",
      "    response = await route_utils.call_process_api(\n",
      "               ^^^^^^^^^^^^^^^^^^^^^^^^^^^^^^^^^^^\n",
      "  File \"c:\\Users\\rutko\\projects\\agents\\.venv\\Lib\\site-packages\\gradio\\route_utils.py\", line 322, in call_process_api\n",
      "    output = await app.get_blocks().process_api(\n",
      "             ^^^^^^^^^^^^^^^^^^^^^^^^^^^^^^^^^^^\n",
      "  File \"c:\\Users\\rutko\\projects\\agents\\.venv\\Lib\\site-packages\\gradio\\blocks.py\", line 2191, in process_api\n",
      "    result = await self.call_function(\n",
      "             ^^^^^^^^^^^^^^^^^^^^^^^^^\n",
      "  File \"c:\\Users\\rutko\\projects\\agents\\.venv\\Lib\\site-packages\\gradio\\blocks.py\", line 1700, in call_function\n",
      "    prediction = await fn(*processed_input)\n",
      "                 ^^^^^^^^^^^^^^^^^^^^^^^^^^\n",
      "  File \"c:\\Users\\rutko\\projects\\agents\\.venv\\Lib\\site-packages\\gradio\\utils.py\", line 861, in async_wrapper\n",
      "    response = await f(*args, **kwargs)\n",
      "               ^^^^^^^^^^^^^^^^^^^^^^^^\n",
      "  File \"c:\\Users\\rutko\\projects\\agents\\.venv\\Lib\\site-packages\\gradio\\chat_interface.py\", line 892, in _submit_fn\n",
      "    response = await anyio.to_thread.run_sync(\n",
      "               ^^^^^^^^^^^^^^^^^^^^^^^^^^^^^^^\n",
      "  File \"c:\\Users\\rutko\\projects\\agents\\.venv\\Lib\\site-packages\\anyio\\to_thread.py\", line 56, in run_sync\n",
      "    return await get_async_backend().run_sync_in_worker_thread(\n",
      "           ^^^^^^^^^^^^^^^^^^^^^^^^^^^^^^^^^^^^^^^^^^^^^^^^^^^^\n",
      "  File \"c:\\Users\\rutko\\projects\\agents\\.venv\\Lib\\site-packages\\anyio\\_backends\\_asyncio.py\", line 2470, in run_sync_in_worker_thread\n",
      "    return await future\n",
      "           ^^^^^^^^^^^^\n",
      "  File \"c:\\Users\\rutko\\projects\\agents\\.venv\\Lib\\site-packages\\anyio\\_backends\\_asyncio.py\", line 967, in run\n",
      "    result = context.run(func, *args)\n",
      "             ^^^^^^^^^^^^^^^^^^^^^^^^\n",
      "  File \"C:\\Users\\rutko\\AppData\\Local\\Temp\\ipykernel_5832\\4242146144.py\", line 14, in requestLetter\n",
      "    evaluation = evaluate(job_posting, cover_letter)\n",
      "                 ^^^^^^^^^^^^^^^^^^^^^^^^^^^^^^^^^^^\n",
      "  File \"C:\\Users\\rutko\\AppData\\Local\\Temp\\ipykernel_5832\\2692361669.py\", line 7, in evaluate\n",
      "    response = openai.chat.completions.create(\n",
      "               ^^^^^^^^^^^^^^^^^^^^^^^^^^^^^^^\n",
      "  File \"c:\\Users\\rutko\\projects\\agents\\.venv\\Lib\\site-packages\\openai\\_utils\\_utils.py\", line 287, in wrapper\n",
      "    return func(*args, **kwargs)\n",
      "           ^^^^^^^^^^^^^^^^^^^^^\n",
      "TypeError: Completions.create() got an unexpected keyword argument 'reasoning'\n"
     ]
    }
   ],
   "source": [
    "gr.ChatInterface(requestLetter, type=\"messages\").launch()"
   ]
  },
  {
   "cell_type": "code",
   "execution_count": null,
   "metadata": {},
   "outputs": [],
   "source": []
  }
 ],
 "metadata": {
  "kernelspec": {
   "display_name": ".venv",
   "language": "python",
   "name": "python3"
  },
  "language_info": {
   "codemirror_mode": {
    "name": "ipython",
    "version": 3
   },
   "file_extension": ".py",
   "mimetype": "text/x-python",
   "name": "python",
   "nbconvert_exporter": "python",
   "pygments_lexer": "ipython3",
   "version": "3.12.1"
  }
 },
 "nbformat": 4,
 "nbformat_minor": 2
}
