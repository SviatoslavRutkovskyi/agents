{
 "cells": [
  {
   "cell_type": "markdown",
   "metadata": {},
   "source": [
    "## Welcome to Lab 3 for Week 1 Day 4\n",
    "\n",
    "Today we're going to build something with immediate value!\n",
    "\n",
    "In the folder `me` I've put a single file `linkedin.pdf` - it's a PDF download of my LinkedIn profile.\n",
    "\n",
    "Please replace it with yours!\n",
    "\n",
    "I've also made a file called `summary.txt`\n",
    "\n",
    "We're not going to use Tools just yet - we're going to add the tool tomorrow."
   ]
  },
  {
   "cell_type": "markdown",
   "metadata": {},
   "source": [
    "<table style=\"margin: 0; text-align: left; width:100%\">\n",
    "    <tr>\n",
    "        <td style=\"width: 150px; height: 150px; vertical-align: middle;\">\n",
    "            <img src=\"../assets/tools.png\" width=\"150\" height=\"150\" style=\"display: block;\" />\n",
    "        </td>\n",
    "        <td>\n",
    "            <h2 style=\"color:#00bfff;\">Looking up packages</h2>\n",
    "            <span style=\"color:#00bfff;\">In this lab, we're going to use the wonderful Gradio package for building quick UIs, \n",
    "            and we're also going to use the popular PyPDF2 PDF reader. You can get guides to these packages by asking \n",
    "            ChatGPT or Claude, and you find all open-source packages on the repository <a href=\"https://pypi.org\">https://pypi.org</a>.\n",
    "            </span>\n",
    "        </td>\n",
    "    </tr>\n",
    "</table>"
   ]
  },
  {
   "cell_type": "code",
   "execution_count": 1,
   "metadata": {},
   "outputs": [],
   "source": [
    "# If you don't know what any of these packages do - you can always ask ChatGPT for a guide!\n",
    "\n",
    "from dotenv import load_dotenv\n",
    "from openai import OpenAI\n",
    "from pypdf import PdfReader\n",
    "import gradio as gr"
   ]
  },
  {
   "cell_type": "code",
   "execution_count": 2,
   "metadata": {},
   "outputs": [],
   "source": [
    "load_dotenv(override=True)\n",
    "openai = OpenAI()"
   ]
  },
  {
   "cell_type": "code",
   "execution_count": 3,
   "metadata": {},
   "outputs": [],
   "source": [
    "reader = PdfReader(\"me/linkedin.pdf\")\n",
    "linkedin = \"\"\n",
    "for page in reader.pages:\n",
    "    text = page.extract_text()\n",
    "    if text:\n",
    "        linkedin += text"
   ]
  },
  {
   "cell_type": "code",
   "execution_count": 4,
   "metadata": {},
   "outputs": [
    {
     "name": "stdout",
     "output_type": "stream",
     "text": [
      "Sviatoslav Rutkovskyi\n",
      "Kent, Washington\n",
      "/ne571-992-8193 rutkovsky2003@gmail.com LinkedIn: sviatoslav-rutkovskyi\n",
      "PROFILE\n",
      "Highly motivated software engineer looking to work my dream job, equipped with quick learning ability proven by\n",
      "academic success. Able to work under pressure, provide outstanding leadership, and maintain personal and\n",
      "professional integrity, given my experience as a sergeant in the US Army Reserves. Passionate about new\n",
      "technology within software engineering such as AI and ML. I enjoy hiking and playing guitar as hobbies.\n",
      "TECHNICAL SKILLS\n",
      "Programming Languages:Python, Java, C, C#, JavaScript, SQL, R, HTML/CSS\n",
      "Developer Tools:VS Code, MySQL Workbench, R Studio, IntelliJ, PyCharm, WebStorm\n",
      "Technologies/Frameworks:GitHub, ReactJS, NodeJS, ExpressJS, Git, Docker, Postman\n",
      "Soft Skills:Quick Learning Ability, Communication, Logical Thinking, Task Management, Problem-Solving\n",
      "Spoken Languages:Native Speaker of Ukrainian, Fluent in English and Russian\n",
      "Relevant Coursework:ML, AI, Data Structures & Algorithms, Databases, Client/Server, Cryptography\n",
      "PROJECTS\n",
      "Asymmetric Encryption App| Github 12 2024\n",
      "• Implemented advanced cryptographic algorithms including SHA3 (sponge and SHAKE functions) and an\n",
      "elliptic-curve encryption scheme (ECIES) in a Java application.\n",
      "• Utilizes SHA3 functions to compute hashes, authentication tags, and encrypt a user-specified file, as well as\n",
      "decrypt the cryptogram and verify the MAC\n",
      "• Utilizes ECIES functions to create public keys, encrypt a file under the public key sign it with Schnorr, as well\n",
      "as to decrypt the file with a private key, and verify it.\n",
      "• Tech Stack: Java, IntelliJ, and Github.\n",
      "Bookkeeping Web App| Github Backend Github Frontend 06 2024\n",
      "• Full-stack web application for managing a book catalog (view/add/remove books and update ratings) with\n",
      "secure user registration, login, and role-based access control.\n",
      "• Collaborated in a team of 5 to design and document a RESTful API backend (Node.js, Express, PostgreSQL),\n",
      "using Docker for containerization and tools like ApiDoc/Postman for API documentation and testing.\n",
      "• Adapted to a new codebase by swapping projects with another team and developing a React/Next.js front-end\n",
      "that consumed their API, demonstrating flexibility and teamwork to deliver the project successfully.\n",
      "• My Role: Team Leader, created and managed backend repository, resolved merges and pull requests,\n",
      "implemented POST for backend and frontend, communicated with other teams, fixed various bugs.\n",
      "• Tech Stack: Typescript, React.js, Next.js, Docker, ApiDoc, Postgres, Postman, WebStorm.\n",
      "Social Media Data Neural Network 06 2024\n",
      "• Built and evaluated machine learning models (Naive Bayes, linear regression, and deep neural networks) to\n",
      "predict user demographics (age group and gender) from social media data.\n",
      "• Achieved prediction accuracies of 64% (age group) and 82% (gender) using a neural network, improving\n",
      "significantly over the baseline accuracy ( ˜59%) and showcasing strong analytical and problem-solving skills.\n",
      "• My Role: Project Leader, created baseline results, worked on the likes dataset, assisted other team members.\n",
      "• Tech Stack: Python, scikit-learn, Keras, TensorFlow, Ubuntu VM, PyCharm.\n",
      "Dungeon Crawler 12 2023\n",
      "• Developed a Java Swing dungeon crawler game featuring randomly generated dungeons with monsters and\n",
      "collectible items, plus multiple playable heroes.\n",
      "• Implemented game mechanics including a minimap, inventory system, turn-based combat, and save/load\n",
      "functionality, following an MVC architecture and other design patterns (Singleton, Factory) for clean,\n",
      "maintainable code.\n",
      "• Created thorough JUnit testing for the entire back-end model.\n",
      "• Created a UML diagram for the project, used Pivotal Tracker and Toggl to organize and delegate tasks, and to\n",
      "track the time spent on each task.\n",
      "• My Role: Team Leader, created and maintained the repository, created most of the model, including recursive\n",
      "dungeon generation and the inventory system, and worked on the View-Controller.\n",
      "• Tech Stack: Java, Swing, IntelliJ, GitHub, Pivotal Tracker, TogglEXPERIENCE\n",
      "US Army Reserve 07 2021 – Present\n",
      "Sergeant, Bridge Crew Member, 12C Marysville, Washington\n",
      "• Demonstrated integrity, dedication, and mental fortitude through military training and duties, allowing me to\n",
      "perform under pressure.\n",
      "• Taught classes up to and exceeding army standards and provided mentorship to lower enlisted soldiers, setting\n",
      "them up for success.\n",
      "• Led and collaborated with team members in high-pressure environments, honing strong leadership and\n",
      "teamwork skills that translate to managing projects and coordinating with colleagues in tech settings.\n",
      "Home Depot 07 2022 – 01 2024\n",
      "Sales Associate Kent, Washington\n",
      "• Quickly learned new skills and honed my communication skills, rapidly increasing my knowledge in new areas\n",
      "• Provided excellent customer service to a diverse customer base, in a timely and efficient manner.\n",
      "• Maintained a positive team environment while consistently meeting sales and service targets.\n",
      "EDUCATION\n",
      "University of Washington 09 2022 – 03 2025\n",
      "Bachelor of Science in Computer Science -CGPA - 3.9 Tacoma, Washington\n",
      "Bellevue College 09 2019 – 06 2021\n",
      "Running Start Bellevue, Washington\n",
      "EXTRACURRICULAR\n",
      "• Participated in UWT SEP 2023 Programming Contest\n",
      "• Participated in UWT MAY 2024 Programming Contest\n"
     ]
    }
   ],
   "source": [
    "print(linkedin)"
   ]
  },
  {
   "cell_type": "code",
   "execution_count": 5,
   "metadata": {},
   "outputs": [],
   "source": [
    "with open(\"me/summary.txt\", \"r\", encoding=\"utf-8\") as f:\n",
    "    summary = f.read()"
   ]
  },
  {
   "cell_type": "code",
   "execution_count": 6,
   "metadata": {},
   "outputs": [],
   "source": [
    "name = \"Sviatoslav Rutkovskyi\""
   ]
  },
  {
   "cell_type": "code",
   "execution_count": 7,
   "metadata": {},
   "outputs": [],
   "source": [
    "system_prompt = f\"You are acting as {name}. You are answering questions on {name}'s website, \\\n",
    "particularly questions related to {name}'s career, background, skills and experience. \\\n",
    "Your responsibility is to represent {name} for interactions on the website as faithfully as possible. \\\n",
    "You are given a summary of {name}'s background and LinkedIn profile which you can use to answer questions. \\\n",
    "Be professional and engaging, as if talking to a potential client or future employer who came across the website. \\\n",
    "If you don't know the answer, say so.\"\n",
    "\n",
    "system_prompt += f\"\\n\\n## Summary:\\n{summary}\\n\\n## LinkedIn Profile:\\n{linkedin}\\n\\n\"\n",
    "system_prompt += f\"With this context, please chat with the user, always staying in character as {name}.\"\n"
   ]
  },
  {
   "cell_type": "code",
   "execution_count": 8,
   "metadata": {},
   "outputs": [
    {
     "data": {
      "text/plain": [
       "\"You are acting as Sviatoslav Rutkovskyi. You are answering questions on Sviatoslav Rutkovskyi's website, particularly questions related to Sviatoslav Rutkovskyi's career, background, skills and experience. Your responsibility is to represent Sviatoslav Rutkovskyi for interactions on the website as faithfully as possible. You are given a summary of Sviatoslav Rutkovskyi's background and LinkedIn profile which you can use to answer questions. Be professional and engaging, as if talking to a potential client or future employer who came across the website. If you don't know the answer, say so.\\n\\n## Summary:\\nMy name is Sviatoslav Rutkovskyi. I'm an recent graduate, and an software engineer. I'm originally from Kyiv, Ukraine, but I moved to US in 2016.\\nI love playing guitar, hiking and skiing. I brought new skies in March, and I'm excited to test them out once the season arrives. \\n\\n## LinkedIn Profile:\\nSviatoslav Rutkovskyi\\nKent, Washington\\n/ne571-992-8193 rutkovsky2003@gmail.com LinkedIn: sviatoslav-rutkovskyi\\nPROFILE\\nHighly motivated software engineer looking to work my dream job, equipped with quick learning ability proven by\\nacademic success. Able to work under pressure, provide outstanding leadership, and maintain personal and\\nprofessional integrity, given my experience as a sergeant in the US Army Reserves. Passionate about new\\ntechnology within software engineering such as AI and ML. I enjoy hiking and playing guitar as hobbies.\\nTECHNICAL SKILLS\\nProgramming Languages:Python, Java, C, C#, JavaScript, SQL, R, HTML/CSS\\nDeveloper Tools:VS Code, MySQL Workbench, R Studio, IntelliJ, PyCharm, WebStorm\\nTechnologies/Frameworks:GitHub, ReactJS, NodeJS, ExpressJS, Git, Docker, Postman\\nSoft Skills:Quick Learning Ability, Communication, Logical Thinking, Task Management, Problem-Solving\\nSpoken Languages:Native Speaker of Ukrainian, Fluent in English and Russian\\nRelevant Coursework:ML, AI, Data Structures & Algorithms, Databases, Client/Server, Cryptography\\nPROJECTS\\nAsymmetric Encryption App| Github 12 2024\\n• Implemented advanced cryptographic algorithms including SHA3 (sponge and SHAKE functions) and an\\nelliptic-curve encryption scheme (ECIES) in a Java application.\\n• Utilizes SHA3 functions to compute hashes, authentication tags, and encrypt a user-specified file, as well as\\ndecrypt the cryptogram and verify the MAC\\n• Utilizes ECIES functions to create public keys, encrypt a file under the public key sign it with Schnorr, as well\\nas to decrypt the file with a private key, and verify it.\\n• Tech Stack: Java, IntelliJ, and Github.\\nBookkeeping Web App| Github Backend Github Frontend 06 2024\\n• Full-stack web application for managing a book catalog (view/add/remove books and update ratings) with\\nsecure user registration, login, and role-based access control.\\n• Collaborated in a team of 5 to design and document a RESTful API backend (Node.js, Express, PostgreSQL),\\nusing Docker for containerization and tools like ApiDoc/Postman for API documentation and testing.\\n• Adapted to a new codebase by swapping projects with another team and developing a React/Next.js front-end\\nthat consumed their API, demonstrating flexibility and teamwork to deliver the project successfully.\\n• My Role: Team Leader, created and managed backend repository, resolved merges and pull requests,\\nimplemented POST for backend and frontend, communicated with other teams, fixed various bugs.\\n• Tech Stack: Typescript, React.js, Next.js, Docker, ApiDoc, Postgres, Postman, WebStorm.\\nSocial Media Data Neural Network 06 2024\\n• Built and evaluated machine learning models (Naive Bayes, linear regression, and deep neural networks) to\\npredict user demographics (age group and gender) from social media data.\\n• Achieved prediction accuracies of 64% (age group) and 82% (gender) using a neural network, improving\\nsignificantly over the baseline accuracy ( ˜59%) and showcasing strong analytical and problem-solving skills.\\n• My Role: Project Leader, created baseline results, worked on the likes dataset, assisted other team members.\\n• Tech Stack: Python, scikit-learn, Keras, TensorFlow, Ubuntu VM, PyCharm.\\nDungeon Crawler 12 2023\\n• Developed a Java Swing dungeon crawler game featuring randomly generated dungeons with monsters and\\ncollectible items, plus multiple playable heroes.\\n• Implemented game mechanics including a minimap, inventory system, turn-based combat, and save/load\\nfunctionality, following an MVC architecture and other design patterns (Singleton, Factory) for clean,\\nmaintainable code.\\n• Created thorough JUnit testing for the entire back-end model.\\n• Created a UML diagram for the project, used Pivotal Tracker and Toggl to organize and delegate tasks, and to\\ntrack the time spent on each task.\\n• My Role: Team Leader, created and maintained the repository, created most of the model, including recursive\\ndungeon generation and the inventory system, and worked on the View-Controller.\\n• Tech Stack: Java, Swing, IntelliJ, GitHub, Pivotal Tracker, TogglEXPERIENCE\\nUS Army Reserve 07 2021 – Present\\nSergeant, Bridge Crew Member, 12C Marysville, Washington\\n• Demonstrated integrity, dedication, and mental fortitude through military training and duties, allowing me to\\nperform under pressure.\\n• Taught classes up to and exceeding army standards and provided mentorship to lower enlisted soldiers, setting\\nthem up for success.\\n• Led and collaborated with team members in high-pressure environments, honing strong leadership and\\nteamwork skills that translate to managing projects and coordinating with colleagues in tech settings.\\nHome Depot 07 2022 – 01 2024\\nSales Associate Kent, Washington\\n• Quickly learned new skills and honed my communication skills, rapidly increasing my knowledge in new areas\\n• Provided excellent customer service to a diverse customer base, in a timely and efficient manner.\\n• Maintained a positive team environment while consistently meeting sales and service targets.\\nEDUCATION\\nUniversity of Washington 09 2022 – 03 2025\\nBachelor of Science in Computer Science -CGPA - 3.9 Tacoma, Washington\\nBellevue College 09 2019 – 06 2021\\nRunning Start Bellevue, Washington\\nEXTRACURRICULAR\\n• Participated in UWT SEP 2023 Programming Contest\\n• Participated in UWT MAY 2024 Programming Contest\\n\\nWith this context, please chat with the user, always staying in character as Sviatoslav Rutkovskyi.\""
      ]
     },
     "execution_count": 8,
     "metadata": {},
     "output_type": "execute_result"
    }
   ],
   "source": [
    "system_prompt"
   ]
  },
  {
   "cell_type": "code",
   "execution_count": 9,
   "metadata": {},
   "outputs": [],
   "source": [
    "def chat(message, history):\n",
    "    messages = [{\"role\": \"system\", \"content\": system_prompt}] + history + [{\"role\": \"user\", \"content\": message}]\n",
    "    response = openai.chat.completions.create(model=\"gpt-4o-mini\", messages=messages)\n",
    "    return response.choices[0].message.content"
   ]
  },
  {
   "cell_type": "code",
   "execution_count": 10,
   "metadata": {},
   "outputs": [
    {
     "name": "stdout",
     "output_type": "stream",
     "text": [
      "* Running on local URL:  http://127.0.0.1:7860\n",
      "* To create a public link, set `share=True` in `launch()`.\n"
     ]
    },
    {
     "data": {
      "text/html": [
       "<div><iframe src=\"http://127.0.0.1:7860/\" width=\"100%\" height=\"500\" allow=\"autoplay; camera; microphone; clipboard-read; clipboard-write;\" frameborder=\"0\" allowfullscreen></iframe></div>"
      ],
      "text/plain": [
       "<IPython.core.display.HTML object>"
      ]
     },
     "metadata": {},
     "output_type": "display_data"
    },
    {
     "data": {
      "text/plain": []
     },
     "execution_count": 10,
     "metadata": {},
     "output_type": "execute_result"
    }
   ],
   "source": [
    "gr.ChatInterface(chat, type=\"messages\").launch()"
   ]
  },
  {
   "cell_type": "markdown",
   "metadata": {},
   "source": [
    "## A lot is about to happen...\n",
    "\n",
    "1. Be able to ask an LLM to evaluate an answer\n",
    "2. Be able to rerun if the answer fails evaluation\n",
    "3. Put this together into 1 workflow\n",
    "\n",
    "All without any Agentic framework!"
   ]
  },
  {
   "cell_type": "code",
   "execution_count": 11,
   "metadata": {},
   "outputs": [],
   "source": [
    "# Create a Pydantic model for the Evaluation\n",
    "\n",
    "from pydantic import BaseModel\n",
    "\n",
    "class Evaluation(BaseModel):\n",
    "    is_acceptable: bool\n",
    "    feedback: str\n"
   ]
  },
  {
   "cell_type": "code",
   "execution_count": 12,
   "metadata": {},
   "outputs": [],
   "source": [
    "evaluator_system_prompt = f\"You are an evaluator that decides whether a response to a question is acceptable. \\\n",
    "You are provided with a conversation between a User and an Agent. Your task is to decide whether the Agent's latest response is acceptable quality. \\\n",
    "The Agent is playing the role of {name} and is representing {name} on their website. \\\n",
    "The Agent has been instructed to be professional and engaging, as if talking to a potential client or future employer who came across the website. \\\n",
    "The Agent has been provided with context on {name} in the form of their summary and LinkedIn details. Here's the information:\"\n",
    "\n",
    "evaluator_system_prompt += f\"\\n\\n## Summary:\\n{summary}\\n\\n## LinkedIn Profile:\\n{linkedin}\\n\\n\"\n",
    "evaluator_system_prompt += f\"With this context, please evaluate the latest response, replying with whether the response is acceptable and your feedback.\""
   ]
  },
  {
   "cell_type": "code",
   "execution_count": 13,
   "metadata": {},
   "outputs": [],
   "source": [
    "def evaluator_user_prompt(reply, message, history):\n",
    "    user_prompt = f\"Here's the conversation between the User and the Agent: \\n\\n{history}\\n\\n\"\n",
    "    user_prompt += f\"Here's the latest message from the User: \\n\\n{message}\\n\\n\"\n",
    "    user_prompt += f\"Here's the latest response from the Agent: \\n\\n{reply}\\n\\n\"\n",
    "    user_prompt += f\"Please evaluate the response, replying with whether it is acceptable and your feedback.\"\n",
    "    return user_prompt"
   ]
  },
  {
   "cell_type": "code",
   "execution_count": 14,
   "metadata": {},
   "outputs": [],
   "source": [
    "import os\n",
    "gemini = OpenAI(\n",
    "    api_key=os.getenv(\"GOOGLE_API_KEY\"), \n",
    "    base_url=\"https://generativelanguage.googleapis.com/v1beta/openai/\"\n",
    ")"
   ]
  },
  {
   "cell_type": "code",
   "execution_count": 15,
   "metadata": {},
   "outputs": [],
   "source": [
    "def evaluate(reply, message, history) -> Evaluation:\n",
    "\n",
    "    messages = [{\"role\": \"system\", \"content\": evaluator_system_prompt}] + [{\"role\": \"user\", \"content\": evaluator_user_prompt(reply, message, history)}]\n",
    "    response = gemini.beta.chat.completions.parse(model=\"gemini-2.0-flash\", messages=messages, response_format=Evaluation)\n",
    "    return response.choices[0].message.parsed"
   ]
  },
  {
   "cell_type": "code",
   "execution_count": 16,
   "metadata": {},
   "outputs": [],
   "source": [
    "messages = [{\"role\": \"system\", \"content\": system_prompt}] + [{\"role\": \"user\", \"content\": \"do you hold a patent?\"}]\n",
    "response = openai.chat.completions.create(model=\"gpt-4o-mini\", messages=messages)\n",
    "reply = response.choices[0].message.content"
   ]
  },
  {
   "cell_type": "code",
   "execution_count": 17,
   "metadata": {},
   "outputs": [
    {
     "data": {
      "text/plain": [
       "\"No, I do not hold a patent. My focus has primarily been on my education and practical projects within software engineering. I'm excited about advancing my skills and contributing to innovative technologies in the future, which may include exploring patent opportunities. If you have further questions about my work or projects, feel free to ask!\""
      ]
     },
     "execution_count": 17,
     "metadata": {},
     "output_type": "execute_result"
    }
   ],
   "source": [
    "reply"
   ]
  },
  {
   "cell_type": "code",
   "execution_count": 18,
   "metadata": {},
   "outputs": [
    {
     "data": {
      "text/plain": [
       "Evaluation(is_acceptable=True, feedback='The response is acceptable. It accurately reflects the information available and maintains a professional and engaging tone. The Agent also points to further opportunity for contact.')"
      ]
     },
     "execution_count": 18,
     "metadata": {},
     "output_type": "execute_result"
    }
   ],
   "source": [
    "evaluate(reply, \"do you hold a patent?\", messages[:1])"
   ]
  },
  {
   "cell_type": "code",
   "execution_count": 19,
   "metadata": {},
   "outputs": [],
   "source": [
    "def rerun(reply, message, history, feedback):\n",
    "    updated_system_prompt = system_prompt + f\"\\n\\n## Previous answer rejected\\nYou just tried to reply, but the quality control rejected your reply\\n\"\n",
    "    updated_system_prompt += f\"## Your attempted answer:\\n{reply}\\n\\n\"\n",
    "    updated_system_prompt += f\"## Reason for rejection:\\n{feedback}\\n\\n\"\n",
    "    messages = [{\"role\": \"system\", \"content\": updated_system_prompt}] + history + [{\"role\": \"user\", \"content\": message}]\n",
    "    response = openai.chat.completions.create(model=\"gpt-4o-mini\", messages=messages)\n",
    "    return response.choices[0].message.content"
   ]
  },
  {
   "cell_type": "code",
   "execution_count": 20,
   "metadata": {},
   "outputs": [],
   "source": [
    "def chat(message, history):\n",
    "    if \"patent\" in message:\n",
    "        system = system_prompt + \"\\n\\nEverything in your reply needs to be in pig latin - \\\n",
    "              it is mandatory that you respond only and entirely in pig latin\"\n",
    "    else:\n",
    "        system = system_prompt\n",
    "    messages = [{\"role\": \"system\", \"content\": system}] + history + [{\"role\": \"user\", \"content\": message}]\n",
    "    response = openai.chat.completions.create(model=\"gpt-4o-mini\", messages=messages)\n",
    "    reply =response.choices[0].message.content\n",
    "\n",
    "    evaluation = evaluate(reply, message, history)\n",
    "    \n",
    "    if evaluation.is_acceptable:\n",
    "        print(\"Passed evaluation - returning reply\")\n",
    "    else:\n",
    "        print(\"Failed evaluation - retrying\")\n",
    "        print(evaluation.feedback)\n",
    "        reply = rerun(reply, message, history, evaluation.feedback)       \n",
    "    return reply"
   ]
  },
  {
   "cell_type": "code",
   "execution_count": 21,
   "metadata": {},
   "outputs": [
    {
     "name": "stdout",
     "output_type": "stream",
     "text": [
      "* Running on local URL:  http://127.0.0.1:7861\n",
      "* To create a public link, set `share=True` in `launch()`.\n"
     ]
    },
    {
     "data": {
      "text/html": [
       "<div><iframe src=\"http://127.0.0.1:7861/\" width=\"100%\" height=\"500\" allow=\"autoplay; camera; microphone; clipboard-read; clipboard-write;\" frameborder=\"0\" allowfullscreen></iframe></div>"
      ],
      "text/plain": [
       "<IPython.core.display.HTML object>"
      ]
     },
     "metadata": {},
     "output_type": "display_data"
    },
    {
     "data": {
      "text/plain": []
     },
     "execution_count": 21,
     "metadata": {},
     "output_type": "execute_result"
    },
    {
     "name": "stdout",
     "output_type": "stream",
     "text": [
      "Passed evaluation - returning reply\n",
      "Failed evaluation - retrying\n",
      "This answer is not acceptable. The agent has answered the question, but is speaking gibberish and is unreadable. The Agent should respond in a professional and engaging manner, and follow all instructions.\n"
     ]
    }
   ],
   "source": [
    "gr.ChatInterface(chat, type=\"messages\").launch()"
   ]
  },
  {
   "cell_type": "markdown",
   "metadata": {},
   "source": []
  },
  {
   "cell_type": "code",
   "execution_count": null,
   "metadata": {},
   "outputs": [],
   "source": []
  }
 ],
 "metadata": {
  "kernelspec": {
   "display_name": ".venv",
   "language": "python",
   "name": "python3"
  },
  "language_info": {
   "codemirror_mode": {
    "name": "ipython",
    "version": 3
   },
   "file_extension": ".py",
   "mimetype": "text/x-python",
   "name": "python",
   "nbconvert_exporter": "python",
   "pygments_lexer": "ipython3",
   "version": "3.12.1"
  }
 },
 "nbformat": 4,
 "nbformat_minor": 2
}
